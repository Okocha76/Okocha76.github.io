{
  "nbformat": 4,
  "nbformat_minor": 0,
  "metadata": {
    "colab": {
      "name": "K-Means Clustering.ipynb",
      "provenance": []
    },
    "kernelspec": {
      "name": "python3",
      "display_name": "Python 3"
    }
  },
  "cells": [
    {
      "cell_type": "code",
      "metadata": {
        "id": "veSZgbgFm8J4",
        "colab_type": "code",
        "colab": {}
      },
      "source": [
        "import numpy as np\n",
        "import operator\n",
        "import matplotlib.pyplot as plt\n",
        "import matplotlib.cm as cm"
      ],
      "execution_count": 0,
      "outputs": []
    },
    {
      "cell_type": "code",
      "metadata": {
        "id": "VatkiiFpm_f9",
        "colab_type": "code",
        "colab": {}
      },
      "source": [
        "class Centroid:\n",
        "    def __init__(self, loc):\n",
        "        self.loc = loc\n",
        "        self.points = []\n",
        "        self.previous = []\n",
        "        self.color = None"
      ],
      "execution_count": 0,
      "outputs": []
    },
    {
      "cell_type": "code",
      "metadata": {
        "id": "zip7ZNSbnXho",
        "colab_type": "code",
        "colab": {}
      },
      "source": [
        "# generate random data points\n",
        "r = lambda: np.random.uniform(0, 10)\n",
        "\n",
        "class KMeans:\n",
        "\n",
        "    def __init__(self, n_centroids=4):\n",
        "        self.n_centroids = n_centroids\n",
        "        self.centroids = []\n",
        "\n",
        "        # generate initial centroids\n",
        "        for _ in range(n_centroids):\n",
        "            self.centroids.append(Centroid(np.array([r(), r()])))\n",
        "\n",
        "        # assign a color to each centroid\n",
        "        colors = cm.rainbow(np.linspace(0, 1, len(self.centroids)))\n",
        "        for i, c in enumerate(self.centroids):\n",
        "            c.color = colors[i]\n",
        "\n",
        "    def sample_data(self, samples=100):\n",
        "        self.X = [[r(), r()] for _ in range(samples)]\n",
        "\n",
        "    def plot(self):\n",
        "        for i, c in enumerate(self.centroids):\n",
        "            plt.scatter(c.loc[0], c.loc[1], marker='o', color=c.color, s=100)\n",
        "            x_values = [x[0] for x in c.points]\n",
        "            y_values = [y[1] for y in c.points]\n",
        "\n",
        "            plt.scatter(x_values, y_values, marker='.', color=c.color)\n",
        "\n",
        "        title = 'KMeans'\n",
        "        plt.xlabel('X')\n",
        "        plt.ylabel('Y')\n",
        "        plt.title(title)\n",
        "        plt.savefig('{}.png'.format(title))\n",
        "        plt.plot()\n",
        "\n",
        "    def assign(self, x):\n",
        "        distances = {}\n",
        "        for centroid in self.centroids:\n",
        "            distances[centroid] = np.linalg.norm(centroid.loc - x)\n",
        "\n",
        "        closest = min(distances.items(), key=operator.itemgetter(1))[0]\n",
        "        return closest\n",
        "\n",
        "    def update(self, reset=True):\n",
        "        for centroid in self.centroids:\n",
        "            centroid.previous = centroid.points\n",
        "            x_value = [x[0] for x in centroid.points]\n",
        "            y_value = [y[1] for y in centroid.points]\n",
        "\n",
        "            centroid.loc[0] = sum(x_value) / len(x_value)\n",
        "            centroid.loc[1] = sum(y_value) / len(y_value)\n",
        "\n",
        "            if reset:\n",
        "                centroid.points = []\n",
        "\n",
        "    def fit(self):\n",
        "        fit = False\n",
        "        while not fit:\n",
        "            for point in self.X:\n",
        "                closest = self.assign(point)\n",
        "                closest.points.append(point)\n",
        "\n",
        "            if len([c for c in self.centroids if\n",
        "                    c.points == c.previous]) == self.n_centroids:\n",
        "                fit = True\n",
        "                self.update(reset=False)\n",
        "\n",
        "            else:\n",
        "                self.update()\n",
        "\n",
        "    def predict(self, point):\n",
        "        closest = self.assign(point)\n",
        "        closest.points.append(point)\n",
        "        print(closest.loc)"
      ],
      "execution_count": 0,
      "outputs": []
    },
    {
      "cell_type": "code",
      "metadata": {
        "id": "C7tyKP4znaM-",
        "colab_type": "code",
        "colab": {
          "base_uri": "https://localhost:8080/",
          "height": 312
        },
        "outputId": "4ee8518f-e058-4128-d163-b1d1dd5f1064"
      },
      "source": [
        "km = KMeans()\n",
        "km.sample_data()\n",
        "km.assign(km.X[0])\n",
        "km.fit()\n",
        "km.predict([5, 5])\n",
        "km.plot()"
      ],
      "execution_count": 52,
      "outputs": [
        {
          "output_type": "stream",
          "text": [
            "[3.66891002 2.5716572 ]\n"
          ],
          "name": "stdout"
        },
        {
          "output_type": "display_data",
          "data": {
            "image/png": "[encoded data removed]",
            "text/plain": [
              "<Figure size 432x288 with 1 Axes>"
            ]
          },
          "metadata": {
            "tags": [],
            "needs_background": "light"
          }
        }
      ]
    },
    {
      "cell_type": "code",
      "metadata": {
        "id": "HcieoYVnne5r",
        "colab_type": "code",
        "colab": {}
      },
      "source": [
        ""
      ],
      "execution_count": 0,
      "outputs": []
    }
  ]
}